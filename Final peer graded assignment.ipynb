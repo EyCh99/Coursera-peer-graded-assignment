{
 "cells": [
  {
   "cell_type": "markdown",
   "id": "aabff5f1-d3b1-43b8-9796-cc281ebab5a1",
   "metadata": {},
   "source": [
    "# Data Science Tools and Ecosystem"
   ]
  },
  {
   "cell_type": "markdown",
   "id": "776e1b9a-794d-40ed-9288-305f6b76654b",
   "metadata": {},
   "source": [
    "In this notebook, Data Science Tools and Ecosystem are summarized."
   ]
  },
  {
   "cell_type": "markdown",
   "id": "2f7aac4c-fff5-4520-b8c7-80922676a402",
   "metadata": {},
   "source": [
    "**Objectives:**\n",
    "- List popular languages \n",
    "- List popular libraries \n",
    "- List popular tools\n"
   ]
  },
  {
   "cell_type": "markdown",
   "id": "b7343d2d-9bad-4901-ab25-f52e7ddd0c00",
   "metadata": {},
   "source": [
    "Some of the popular languages that Data Scientists use are:\n",
    "1. Python\n",
    "2. R\n",
    "3. SQL\n",
    "4. Java"
   ]
  },
  {
   "cell_type": "markdown",
   "id": "128c0552-8a4f-4c83-b096-11ea855acbfb",
   "metadata": {},
   "source": [
    "Some of the commonly used libraries used by Data Scientists include:\n",
    "1. TensorFlow\n",
    "2. PyTorch\n",
    "3. NumPy"
   ]
  },
  {
   "cell_type": "markdown",
   "id": "2bb322ee-8c3f-4208-9f65-01c2f5d6604a",
   "metadata": {},
   "source": [
    "| Data Science Tools |\n",
    "| ------------------ |\n",
    "| Jupyter Notebooks  |\n",
    "| Apache NetBeans    |\n",
    "|    Ruby on Rail    |\n",
    "\n"
   ]
  },
  {
   "cell_type": "markdown",
   "id": "7bc6d1c2-05ec-492d-ae5b-08f995664cd0",
   "metadata": {},
   "source": [
    "### Below are a few examples of evaluating arithmetic expressions in Python"
   ]
  },
  {
   "cell_type": "markdown",
   "id": "e8e9d49b-bcdd-4ffa-a076-55438d1f1d48",
   "metadata": {},
   "source": [
    "This a simple arithmetic expression to mutiply then add integers"
   ]
  },
  {
   "cell_type": "code",
   "execution_count": 1,
   "id": "148272b4-af90-4c18-9bd5-267fc72c5817",
   "metadata": {},
   "outputs": [
    {
     "data": {
      "text/plain": [
       "17"
      ]
     },
     "execution_count": 1,
     "metadata": {},
     "output_type": "execute_result"
    }
   ],
   "source": [
    "(3*4)+5"
   ]
  },
  {
   "cell_type": "markdown",
   "id": "f56ca87f-aa11-4d68-8c3d-27ae12ba17ae",
   "metadata": {},
   "source": [
    "This will convert 200 minutes to hours by diving by 60"
   ]
  },
  {
   "cell_type": "code",
   "execution_count": 2,
   "id": "388b6560-8d1d-4fac-81e6-55ddf5824eb6",
   "metadata": {},
   "outputs": [
    {
     "data": {
      "text/plain": [
       "3.3333333333333335"
      ]
     },
     "execution_count": 2,
     "metadata": {},
     "output_type": "execute_result"
    }
   ],
   "source": [
    "200/60"
   ]
  },
  {
   "cell_type": "markdown",
   "id": "b9818374-654e-4769-9828-db77cfbc63f5",
   "metadata": {},
   "source": [
    "## Author\n",
    "Eya"
   ]
  },
  {
   "cell_type": "code",
   "execution_count": null,
   "id": "6bb3808a-54dd-4ec7-b4ea-ddcb120785d4",
   "metadata": {},
   "outputs": [],
   "source": []
  }
 ],
 "metadata": {
  "kernelspec": {
   "display_name": "Python",
   "language": "python",
   "name": "conda-env-python-py"
  },
  "language_info": {
   "codemirror_mode": {
    "name": "ipython",
    "version": 3
   },
   "file_extension": ".py",
   "mimetype": "text/x-python",
   "name": "python",
   "nbconvert_exporter": "python",
   "pygments_lexer": "ipython3",
   "version": "3.7.12"
  }
 },
 "nbformat": 4,
 "nbformat_minor": 5
}
